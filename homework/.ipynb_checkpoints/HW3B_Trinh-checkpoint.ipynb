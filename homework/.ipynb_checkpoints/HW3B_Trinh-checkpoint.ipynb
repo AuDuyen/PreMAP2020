{
 "cells": [
  {
   "cell_type": "markdown",
   "metadata": {},
   "source": [
    "**<font color='red'>Change the name from assignment_lastname to include YOUR last name</font>**. This will make sure that the assignment doesn't get overwritten when you do a ```git pull upstream master``` in class. "
   ]
  },
  {
   "cell_type": "markdown",
   "metadata": {},
   "source": [
    "# Homework 3B - the coding portion"
   ]
  },
  {
   "cell_type": "markdown",
   "metadata": {},
   "source": [
    "## Due: Friday, October 16, by 5pm"
   ]
  },
  {
   "cell_type": "markdown",
   "metadata": {},
   "source": [
    "Skills: numpy, basic python "
   ]
  },
  {
   "cell_type": "markdown",
   "metadata": {},
   "source": [
    "Turn in instructions:\n",
    "1. Before turning in your notebook, make sure you save it first using the floppy disk save icon or File -> save.\n",
    "2. Open a new terminal ```New -> Terminal```, cd into the directory where you worked on this homework. For most of you that should be ~/PreMAP2020/homework/\n",
    "3. To turn in your assignment, you need to “git push” your assignment to your github using the following commands. You’ll need to be inside the PreMAP2020 directory for this to work. (Not in your home directory.)\n",
    "```\n",
    "git add *\n",
    "git commit -m “<Include a message inside quotes: i.e. Finished HW 3B>”\n",
    "git push\n",
    "```"
   ]
  },
  {
   "cell_type": "markdown",
   "metadata": {},
   "source": [
    "Always start with your import statement! You will only need the package `numpy` for today's homework"
   ]
  },
  {
   "cell_type": "code",
   "execution_count": null,
   "metadata": {},
   "outputs": [],
   "source": [
    "#We're going to be using numpy in this homework, so we need to import it first.\n",
    "import numpy as np\n",
    "\n",
    "#The next command makes sure that when I try to display images they show to the notebook screen\n",
    "%matplotlib inline"
   ]
  },
  {
   "cell_type": "markdown",
   "metadata": {},
   "source": [
    "### The exercises in this coding assignment will be based on the article you read for Homework 3A. You can find a link to the article [here](https://astrobites.org/2018/07/18/best-exoplanet-destinations-for-mountain-climbers/)."
   ]
  },
  {
   "cell_type": "markdown",
   "metadata": {},
   "source": [
    "**Before you get started:**\n",
    "Remember that you have many tools to help you out with coding! First, please reference the notebooks we've been working through in class. Great coders copy their old code ALL THE TIME, it is a great resource! You should also make Google your best friend for code questions. Don't hesitate to google your questions. Lastly, you should get familiar with the built in documentation for python and python packages such as numpy. You can access help pages by typing the function name, followed by a ? in a coding cell and then executing it."
   ]
  },
  {
   "cell_type": "markdown",
   "metadata": {},
   "source": [
    "**1)**\n",
    "Use the `print` command to print the title of the astrobites article to the screen."
   ]
  },
  {
   "cell_type": "code",
   "execution_count": 2,
   "metadata": {},
   "outputs": [
    {
     "name": "stdout",
     "output_type": "stream",
     "text": [
      "Best exoplanet destinations for mountain climbers\n"
     ]
    }
   ],
   "source": [
    "print(\"Best exoplanet destinations for mountain climbers\")"
   ]
  },
  {
   "cell_type": "markdown",
   "metadata": {},
   "source": [
    "Using Figure 1 from the paper as a reference, we're going to use Python to do some calculations for us:"
   ]
  },
  {
   "cell_type": "code",
   "execution_count": 3,
   "metadata": {
    "scrolled": false
   },
   "outputs": [
    {
     "ename": "FileNotFoundError",
     "evalue": "[Errno 2] No such file or directory: '/astro/users/mlazz/PreMAP2019/homework/data/exomountain_trainsit.png'",
     "output_type": "error",
     "traceback": [
      "\u001b[0;31m---------------------------------------------------------------------------\u001b[0m",
      "\u001b[0;31mFileNotFoundError\u001b[0m                         Traceback (most recent call last)",
      "\u001b[0;32m<ipython-input-3-ca137e43f7c1>\u001b[0m in \u001b[0;36m<module>\u001b[0;34m\u001b[0m\n\u001b[1;32m      2\u001b[0m \u001b[0;32mfrom\u001b[0m \u001b[0mIPython\u001b[0m\u001b[0;34m.\u001b[0m\u001b[0mdisplay\u001b[0m \u001b[0;32mimport\u001b[0m \u001b[0mImage\u001b[0m\u001b[0;34m\u001b[0m\u001b[0;34m\u001b[0m\u001b[0m\n\u001b[1;32m      3\u001b[0m \u001b[0;32mfrom\u001b[0m \u001b[0mIPython\u001b[0m\u001b[0;34m.\u001b[0m\u001b[0mdisplay\u001b[0m \u001b[0;32mimport\u001b[0m \u001b[0mdisplay\u001b[0m\u001b[0;34m\u001b[0m\u001b[0;34m\u001b[0m\u001b[0m\n\u001b[0;32m----> 4\u001b[0;31m \u001b[0mlc\u001b[0m \u001b[0;34m=\u001b[0m \u001b[0mImage\u001b[0m\u001b[0;34m(\u001b[0m\u001b[0mfilename\u001b[0m\u001b[0;34m=\u001b[0m\u001b[0;34m'/astro/users/mlazz/PreMAP2019/homework/data/exomountain_trainsit.png'\u001b[0m\u001b[0;34m)\u001b[0m\u001b[0;34m\u001b[0m\u001b[0;34m\u001b[0m\u001b[0m\n\u001b[0m\u001b[1;32m      5\u001b[0m \u001b[0mdisplay\u001b[0m\u001b[0;34m(\u001b[0m\u001b[0mlc\u001b[0m\u001b[0;34m)\u001b[0m\u001b[0;34m\u001b[0m\u001b[0;34m\u001b[0m\u001b[0m\n",
      "\u001b[0;32m/opt/conda/lib/python3.7/site-packages/IPython/core/display.py\u001b[0m in \u001b[0;36m__init__\u001b[0;34m(self, data, url, filename, format, embed, width, height, retina, unconfined, metadata)\u001b[0m\n\u001b[1;32m   1223\u001b[0m         \u001b[0mself\u001b[0m\u001b[0;34m.\u001b[0m\u001b[0munconfined\u001b[0m \u001b[0;34m=\u001b[0m \u001b[0munconfined\u001b[0m\u001b[0;34m\u001b[0m\u001b[0;34m\u001b[0m\u001b[0m\n\u001b[1;32m   1224\u001b[0m         super(Image, self).__init__(data=data, url=url, filename=filename, \n\u001b[0;32m-> 1225\u001b[0;31m                 metadata=metadata)\n\u001b[0m\u001b[1;32m   1226\u001b[0m \u001b[0;34m\u001b[0m\u001b[0m\n\u001b[1;32m   1227\u001b[0m         \u001b[0;32mif\u001b[0m \u001b[0mself\u001b[0m\u001b[0;34m.\u001b[0m\u001b[0mwidth\u001b[0m \u001b[0;32mis\u001b[0m \u001b[0;32mNone\u001b[0m \u001b[0;32mand\u001b[0m \u001b[0mself\u001b[0m\u001b[0;34m.\u001b[0m\u001b[0mmetadata\u001b[0m\u001b[0;34m.\u001b[0m\u001b[0mget\u001b[0m\u001b[0;34m(\u001b[0m\u001b[0;34m'width'\u001b[0m\u001b[0;34m,\u001b[0m \u001b[0;34m{\u001b[0m\u001b[0;34m}\u001b[0m\u001b[0;34m)\u001b[0m\u001b[0;34m:\u001b[0m\u001b[0;34m\u001b[0m\u001b[0;34m\u001b[0m\u001b[0m\n",
      "\u001b[0;32m/opt/conda/lib/python3.7/site-packages/IPython/core/display.py\u001b[0m in \u001b[0;36m__init__\u001b[0;34m(self, data, url, filename, metadata)\u001b[0m\n\u001b[1;32m    628\u001b[0m             \u001b[0mself\u001b[0m\u001b[0;34m.\u001b[0m\u001b[0mmetadata\u001b[0m \u001b[0;34m=\u001b[0m \u001b[0;34m{\u001b[0m\u001b[0;34m}\u001b[0m\u001b[0;34m\u001b[0m\u001b[0;34m\u001b[0m\u001b[0m\n\u001b[1;32m    629\u001b[0m \u001b[0;34m\u001b[0m\u001b[0m\n\u001b[0;32m--> 630\u001b[0;31m         \u001b[0mself\u001b[0m\u001b[0;34m.\u001b[0m\u001b[0mreload\u001b[0m\u001b[0;34m(\u001b[0m\u001b[0;34m)\u001b[0m\u001b[0;34m\u001b[0m\u001b[0;34m\u001b[0m\u001b[0m\n\u001b[0m\u001b[1;32m    631\u001b[0m         \u001b[0mself\u001b[0m\u001b[0;34m.\u001b[0m\u001b[0m_check_data\u001b[0m\u001b[0;34m(\u001b[0m\u001b[0;34m)\u001b[0m\u001b[0;34m\u001b[0m\u001b[0;34m\u001b[0m\u001b[0m\n\u001b[1;32m    632\u001b[0m \u001b[0;34m\u001b[0m\u001b[0m\n",
      "\u001b[0;32m/opt/conda/lib/python3.7/site-packages/IPython/core/display.py\u001b[0m in \u001b[0;36mreload\u001b[0;34m(self)\u001b[0m\n\u001b[1;32m   1254\u001b[0m         \u001b[0;34m\"\"\"Reload the raw data from file or URL.\"\"\"\u001b[0m\u001b[0;34m\u001b[0m\u001b[0;34m\u001b[0m\u001b[0m\n\u001b[1;32m   1255\u001b[0m         \u001b[0;32mif\u001b[0m \u001b[0mself\u001b[0m\u001b[0;34m.\u001b[0m\u001b[0membed\u001b[0m\u001b[0;34m:\u001b[0m\u001b[0;34m\u001b[0m\u001b[0;34m\u001b[0m\u001b[0m\n\u001b[0;32m-> 1256\u001b[0;31m             \u001b[0msuper\u001b[0m\u001b[0;34m(\u001b[0m\u001b[0mImage\u001b[0m\u001b[0;34m,\u001b[0m\u001b[0mself\u001b[0m\u001b[0;34m)\u001b[0m\u001b[0;34m.\u001b[0m\u001b[0mreload\u001b[0m\u001b[0;34m(\u001b[0m\u001b[0;34m)\u001b[0m\u001b[0;34m\u001b[0m\u001b[0;34m\u001b[0m\u001b[0m\n\u001b[0m\u001b[1;32m   1257\u001b[0m             \u001b[0;32mif\u001b[0m \u001b[0mself\u001b[0m\u001b[0;34m.\u001b[0m\u001b[0mretina\u001b[0m\u001b[0;34m:\u001b[0m\u001b[0;34m\u001b[0m\u001b[0;34m\u001b[0m\u001b[0m\n\u001b[1;32m   1258\u001b[0m                 \u001b[0mself\u001b[0m\u001b[0;34m.\u001b[0m\u001b[0m_retina_shape\u001b[0m\u001b[0;34m(\u001b[0m\u001b[0;34m)\u001b[0m\u001b[0;34m\u001b[0m\u001b[0;34m\u001b[0m\u001b[0m\n",
      "\u001b[0;32m/opt/conda/lib/python3.7/site-packages/IPython/core/display.py\u001b[0m in \u001b[0;36mreload\u001b[0;34m(self)\u001b[0m\n\u001b[1;32m    653\u001b[0m         \u001b[0;34m\"\"\"Reload the raw data from file or URL.\"\"\"\u001b[0m\u001b[0;34m\u001b[0m\u001b[0;34m\u001b[0m\u001b[0m\n\u001b[1;32m    654\u001b[0m         \u001b[0;32mif\u001b[0m \u001b[0mself\u001b[0m\u001b[0;34m.\u001b[0m\u001b[0mfilename\u001b[0m \u001b[0;32mis\u001b[0m \u001b[0;32mnot\u001b[0m \u001b[0;32mNone\u001b[0m\u001b[0;34m:\u001b[0m\u001b[0;34m\u001b[0m\u001b[0;34m\u001b[0m\u001b[0m\n\u001b[0;32m--> 655\u001b[0;31m             \u001b[0;32mwith\u001b[0m \u001b[0mopen\u001b[0m\u001b[0;34m(\u001b[0m\u001b[0mself\u001b[0m\u001b[0;34m.\u001b[0m\u001b[0mfilename\u001b[0m\u001b[0;34m,\u001b[0m \u001b[0mself\u001b[0m\u001b[0;34m.\u001b[0m\u001b[0m_read_flags\u001b[0m\u001b[0;34m)\u001b[0m \u001b[0;32mas\u001b[0m \u001b[0mf\u001b[0m\u001b[0;34m:\u001b[0m\u001b[0;34m\u001b[0m\u001b[0;34m\u001b[0m\u001b[0m\n\u001b[0m\u001b[1;32m    656\u001b[0m                 \u001b[0mself\u001b[0m\u001b[0;34m.\u001b[0m\u001b[0mdata\u001b[0m \u001b[0;34m=\u001b[0m \u001b[0mf\u001b[0m\u001b[0;34m.\u001b[0m\u001b[0mread\u001b[0m\u001b[0;34m(\u001b[0m\u001b[0;34m)\u001b[0m\u001b[0;34m\u001b[0m\u001b[0;34m\u001b[0m\u001b[0m\n\u001b[1;32m    657\u001b[0m         \u001b[0;32melif\u001b[0m \u001b[0mself\u001b[0m\u001b[0;34m.\u001b[0m\u001b[0murl\u001b[0m \u001b[0;32mis\u001b[0m \u001b[0;32mnot\u001b[0m \u001b[0;32mNone\u001b[0m\u001b[0;34m:\u001b[0m\u001b[0;34m\u001b[0m\u001b[0;34m\u001b[0m\u001b[0m\n",
      "\u001b[0;31mFileNotFoundError\u001b[0m: [Errno 2] No such file or directory: '/astro/users/mlazz/PreMAP2019/homework/data/exomountain_trainsit.png'"
     ]
    }
   ],
   "source": [
    "#IGNORE THIS CELL - I'm just using it to display Figure 1 from the paper.\n",
    "from IPython.display import Image\n",
    "from IPython.display import display\n",
    "lc = Image(filename='/astro/users/mlazz/PreMAP2019/homework/data/exomountain_trainsit.png') \n",
    "display(lc)"
   ]
  },
  {
   "cell_type": "markdown",
   "metadata": {},
   "source": [
    "**2)**\n",
    "Create a variable called `delta_sphere` and a variable called `delta_block`. Assuming that the bottom of the graph is 0, choose a reasonable value for both variables between 0 and 1. "
   ]
  },
  {
   "cell_type": "code",
   "execution_count": 4,
   "metadata": {},
   "outputs": [
    {
     "name": "stdout",
     "output_type": "stream",
     "text": [
      "0.5\n",
      "0.1\n"
     ]
    }
   ],
   "source": [
    "delta_sphere = 0.5\n",
    "delta_block = .1\n",
    "print(delta_sphere)\n",
    "print(delta_block)"
   ]
  },
  {
   "cell_type": "markdown",
   "metadata": {},
   "source": [
    "**3)** How much larger is `delta_sphere` than `delta_block`?"
   ]
  },
  {
   "cell_type": "code",
   "execution_count": 5,
   "metadata": {},
   "outputs": [
    {
     "name": "stdout",
     "output_type": "stream",
     "text": [
      "0.4\n"
     ]
    }
   ],
   "source": [
    "difference_sphere_block = delta_sphere - delta_block\n",
    "print(difference_sphere_block)"
   ]
  },
  {
   "cell_type": "markdown",
   "metadata": {},
   "source": [
    "**4)**\n",
    "From the paper, we know that the transit depth, $\\delta$ is related to the cross-sectional area of the planet, A, and the radius of the host star, R, using the equation: $\\delta = \\frac{A}{\\pi R^{2}}$. \n",
    "\n",
    "Using your value for `delta_sphere` above, if the cross-sectional area of the planet is 0.5, what is the radius of the host star? Print the radius to the screen. *Hint: the value of $\\pi$ is built into `numpy`, you can use it by typing `np.pi`.*"
   ]
  },
  {
   "cell_type": "code",
   "execution_count": 6,
   "metadata": {},
   "outputs": [
    {
     "name": "stdout",
     "output_type": "stream",
     "text": [
      "0.28209479177387814\n"
     ]
    }
   ],
   "source": [
    "A = 0.5\n",
    "R = (A / np.pi * delta_sphere) ** 0.5\n",
    "print(R)"
   ]
  },
  {
   "cell_type": "markdown",
   "metadata": {},
   "source": [
    "**5)**\n",
    "Let's say you had a whole bunch of these observations and wanted to calculate the radii of a bunch of stars. Create a numpy array called `areas` that contains 10 cross-sectional areas evenly spaced out between 0.1 and 1 (including both 0.1 and 1). Print your `areas` array to the screen. Calculate the radius of the host star for each planet with an area in the `areas` array. Create an array called `radii` that contains the radius of each of thse host stars and print it to the screen."
   ]
  },
  {
   "cell_type": "code",
   "execution_count": 7,
   "metadata": {},
   "outputs": [],
   "source": [
    "areas = np.arange(.1,1.1,.1)"
   ]
  },
  {
   "cell_type": "code",
   "execution_count": 8,
   "metadata": {},
   "outputs": [
    {
     "name": "stdout",
     "output_type": "stream",
     "text": [
      "[0.1 0.2 0.3 0.4 0.5 0.6 0.7 0.8 0.9 1. ]\n"
     ]
    }
   ],
   "source": [
    "print(areas)"
   ]
  },
  {
   "cell_type": "code",
   "execution_count": 9,
   "metadata": {},
   "outputs": [
    {
     "name": "stdout",
     "output_type": "stream",
     "text": [
      "[0.12615663 0.17841241 0.21850969 0.25231325 0.28209479 0.30901936\n",
      " 0.33377906 0.35682482 0.37846988 0.39894228]\n"
     ]
    }
   ],
   "source": [
    "radii = (areas / np.pi * delta_sphere) ** 0.5\n",
    "print(radii)"
   ]
  },
  {
   "cell_type": "markdown",
   "metadata": {},
   "source": [
    "**6)** Let's do some math with these numbers, just to test out some of the handy calculations we can do with python and the numpy package. Raise every value of the `radii` array to the 2nd power. Trick - do this two different ways! You will soon learn that there are always multiple ways to do something with Python, and usually more than one good way to do it! You can raise an array to a power using just normal python math operators (+, -, $*$, $**$, etc.) and with the built in `numpy` function `np.power`. Please show that you can do it both ways in the empty cell below."
   ]
  },
  {
   "cell_type": "markdown",
   "metadata": {},
   "source": [
    "Helpful hint, if you aren't sure what arguments the `np.power` function takes, read its help docs by executing the cell below."
   ]
  },
  {
   "cell_type": "code",
   "execution_count": 10,
   "metadata": {},
   "outputs": [
    {
     "name": "stdout",
     "output_type": "stream",
     "text": [
      "[0.01591549 0.03183099 0.04774648 0.06366198 0.07957747 0.09549297\n",
      " 0.11140846 0.12732395 0.14323945 0.15915494]\n"
     ]
    }
   ],
   "source": [
    "np.power?\n",
    "radii_exponent = np.power(radii,2)\n",
    "print(radii_exponent)"
   ]
  },
  {
   "cell_type": "code",
   "execution_count": 11,
   "metadata": {},
   "outputs": [
    {
     "name": "stdout",
     "output_type": "stream",
     "text": [
      "[0.01591549 0.03183099 0.04774648 0.06366198 0.07957747 0.09549297\n",
      " 0.11140846 0.12732395 0.14323945 0.15915494]\n"
     ]
    }
   ],
   "source": [
    "print(radii ** 2)"
   ]
  },
  {
   "cell_type": "markdown",
   "metadata": {},
   "source": [
    "**7)** Sum up the radius of each host star in the `radii` array."
   ]
  },
  {
   "cell_type": "code",
   "execution_count": 12,
   "metadata": {},
   "outputs": [
    {
     "name": "stdout",
     "output_type": "stream",
     "text": [
      "2.834522170270385\n"
     ]
    },
    {
     "data": {
      "text/plain": [
       "2.834522170270385"
      ]
     },
     "execution_count": 12,
     "metadata": {},
     "output_type": "execute_result"
    }
   ],
   "source": [
    "radii_sum = np.sum(radii)\n",
    "print(radii_sum)\n",
    "radii.sum()"
   ]
  },
  {
   "cell_type": "markdown",
   "metadata": {},
   "source": [
    "**8)** Subtract 0.5 from each value in the `radii` array."
   ]
  },
  {
   "cell_type": "code",
   "execution_count": 13,
   "metadata": {},
   "outputs": [
    {
     "name": "stdout",
     "output_type": "stream",
     "text": [
      "[-0.37384337 -0.32158759 -0.28149031 -0.24768675 -0.21790521 -0.19098064\n",
      " -0.16622094 -0.14317518 -0.12153012 -0.10105772]\n"
     ]
    }
   ],
   "source": [
    "print(radii - 0.5)"
   ]
  },
  {
   "cell_type": "markdown",
   "metadata": {},
   "source": [
    "**9)** Divide each value of the radii array by 2."
   ]
  },
  {
   "cell_type": "code",
   "execution_count": 14,
   "metadata": {},
   "outputs": [
    {
     "name": "stdout",
     "output_type": "stream",
     "text": [
      "[0.06307831 0.08920621 0.10925484 0.12615663 0.1410474  0.15450968\n",
      " 0.16688953 0.17841241 0.18923494 0.19947114]\n"
     ]
    }
   ],
   "source": [
    "print(radii / 2)"
   ]
  },
  {
   "cell_type": "markdown",
   "metadata": {},
   "source": [
    "**10)** Let's create a new array of star radii called `new_radii`. The `new_radii` array should contain all multiples of 3 between 0 and 999, including 999. Print `new_radii` to the screen."
   ]
  },
  {
   "cell_type": "code",
   "execution_count": 15,
   "metadata": {},
   "outputs": [
    {
     "name": "stdout",
     "output_type": "stream",
     "text": [
      "[  0   3   6   9  12  15  18  21  24  27  30  33  36  39  42  45  48  51\n",
      "  54  57  60  63  66  69  72  75  78  81  84  87  90  93  96  99 102 105\n",
      " 108 111 114 117 120 123 126 129 132 135 138 141 144 147 150 153 156 159\n",
      " 162 165 168 171 174 177 180 183 186 189 192 195 198 201 204 207 210 213\n",
      " 216 219 222 225 228 231 234 237 240 243 246 249 252 255 258 261 264 267\n",
      " 270 273 276 279 282 285 288 291 294 297 300 303 306 309 312 315 318 321\n",
      " 324 327 330 333 336 339 342 345 348 351 354 357 360 363 366 369 372 375\n",
      " 378 381 384 387 390 393 396 399 402 405 408 411 414 417 420 423 426 429\n",
      " 432 435 438 441 444 447 450 453 456 459 462 465 468 471 474 477 480 483\n",
      " 486 489 492 495 498 501 504 507 510 513 516 519 522 525 528 531 534 537\n",
      " 540 543 546 549 552 555 558 561 564 567 570 573 576 579 582 585 588 591\n",
      " 594 597 600 603 606 609 612 615 618 621 624 627 630 633 636 639 642 645\n",
      " 648 651 654 657 660 663 666 669 672 675 678 681 684 687 690 693 696 699\n",
      " 702 705 708 711 714 717 720 723 726 729 732 735 738 741 744 747 750 753\n",
      " 756 759 762 765 768 771 774 777 780 783 786 789 792 795 798 801 804 807\n",
      " 810 813 816 819 822 825 828 831 834 837 840 843 846 849 852 855 858 861\n",
      " 864 867 870 873 876 879 882 885 888 891 894 897 900 903 906 909 912 915\n",
      " 918 921 924 927 930 933 936 939 942 945 948 951 954 957 960 963 966 969\n",
      " 972 975 978 981 984 987 990 993 996 999]\n"
     ]
    }
   ],
   "source": [
    "new_radii = np.arange(0,1000,3)\n",
    "print(new_radii)"
   ]
  },
  {
   "cell_type": "markdown",
   "metadata": {},
   "source": [
    "**11)** Calculate the cross sectional area of the planet for each of the host stars in the `new_radii` array. Save these values in an array called `new_areas`."
   ]
  },
  {
   "cell_type": "code",
   "execution_count": 16,
   "metadata": {
    "scrolled": false
   },
   "outputs": [
    {
     "name": "stdout",
     "output_type": "stream",
     "text": [
      "[0.00000000e+00 1.41371669e+01 5.65486678e+01 1.27234502e+02\n",
      " 2.26194671e+02 3.53429174e+02 5.08938010e+02 6.92721180e+02\n",
      " 9.04778684e+02 1.14511052e+03 1.41371669e+03 1.71059720e+03\n",
      " 2.03575204e+03 2.38918121e+03 2.77088472e+03 3.18086256e+03\n",
      " 3.61911474e+03 4.08564125e+03 4.58044209e+03 5.10351727e+03\n",
      " 5.65486678e+03 6.23449062e+03 6.84238880e+03 7.47856131e+03\n",
      " 8.14300816e+03 8.83572934e+03 9.55672485e+03 1.03059947e+04\n",
      " 1.10835389e+04 1.18893574e+04 1.27234502e+04 1.35858174e+04\n",
      " 1.44764589e+04 1.53953748e+04 1.63425650e+04 1.73180295e+04\n",
      " 1.83217684e+04 1.93537815e+04 2.04140691e+04 2.15026309e+04\n",
      " 2.26194671e+04 2.37645776e+04 2.49379625e+04 2.61396217e+04\n",
      " 2.73695552e+04 2.86277631e+04 2.99142452e+04 3.12290018e+04\n",
      " 3.25720326e+04 3.39433378e+04 3.53429174e+04 3.67707712e+04\n",
      " 3.82268994e+04 3.97113019e+04 4.12239788e+04 4.27649300e+04\n",
      " 4.43341555e+04 4.59316554e+04 4.75574296e+04 4.92114781e+04\n",
      " 5.08938010e+04 5.26043982e+04 5.43432697e+04 5.61104156e+04\n",
      " 5.79058358e+04 5.97295303e+04 6.15814992e+04 6.34617424e+04\n",
      " 6.53702599e+04 6.73070518e+04 6.92721180e+04 7.12654586e+04\n",
      " 7.32870734e+04 7.53369626e+04 7.74151262e+04 7.95215640e+04\n",
      " 8.16562763e+04 8.38192628e+04 8.60105237e+04 8.82300589e+04\n",
      " 9.04778684e+04 9.27539523e+04 9.50583105e+04 9.73909431e+04\n",
      " 9.97518499e+04 1.02141031e+05 1.04558487e+05 1.07004217e+05\n",
      " 1.09478221e+05 1.11980499e+05 1.14511052e+05 1.17069879e+05\n",
      " 1.19656981e+05 1.22272357e+05 1.24916007e+05 1.27587932e+05\n",
      " 1.30288131e+05 1.33016604e+05 1.35773351e+05 1.38558373e+05\n",
      " 1.41371669e+05 1.44213240e+05 1.47083085e+05 1.49981204e+05\n",
      " 1.52907598e+05 1.55862266e+05 1.58845208e+05 1.61856424e+05\n",
      " 1.64895915e+05 1.67963680e+05 1.71059720e+05 1.74184034e+05\n",
      " 1.77336622e+05 1.80517485e+05 1.83726622e+05 1.86964033e+05\n",
      " 1.90229718e+05 1.93523678e+05 1.96845912e+05 2.00196421e+05\n",
      " 2.03575204e+05 2.06982261e+05 2.10417593e+05 2.13881199e+05\n",
      " 2.17373079e+05 2.20893233e+05 2.24441662e+05 2.28018366e+05\n",
      " 2.31623343e+05 2.35256595e+05 2.38918121e+05 2.42607922e+05\n",
      " 2.46325997e+05 2.50072346e+05 2.53846970e+05 2.57649868e+05\n",
      " 2.61481040e+05 2.65340486e+05 2.69228207e+05 2.73144202e+05\n",
      " 2.77088472e+05 2.81061016e+05 2.85061834e+05 2.89090927e+05\n",
      " 2.93148294e+05 2.97233935e+05 3.01347851e+05 3.05490040e+05\n",
      " 3.09660505e+05 3.13859243e+05 3.18086256e+05 3.22341543e+05\n",
      " 3.26625105e+05 3.30936941e+05 3.35277051e+05 3.39645436e+05\n",
      " 3.44042095e+05 3.48467028e+05 3.52920236e+05 3.57401717e+05\n",
      " 3.61911474e+05 3.66449504e+05 3.71015809e+05 3.75610388e+05\n",
      " 3.80233242e+05 3.84884370e+05 3.89563772e+05 3.94271449e+05\n",
      " 3.99007400e+05 4.03771625e+05 4.08564125e+05 4.13384899e+05\n",
      " 4.18233947e+05 4.23111269e+05 4.28016866e+05 4.32950738e+05\n",
      " 4.37912883e+05 4.42903303e+05 4.47921997e+05 4.52968966e+05\n",
      " 4.58044209e+05 4.63147726e+05 4.68279518e+05 4.73439584e+05\n",
      " 4.78627924e+05 4.83844539e+05 4.89089427e+05 4.94362591e+05\n",
      " 4.99664028e+05 5.04993740e+05 5.10351727e+05 5.15737987e+05\n",
      " 5.21152522e+05 5.26595331e+05 5.32066415e+05 5.37565773e+05\n",
      " 5.43093405e+05 5.48649312e+05 5.54233493e+05 5.59845948e+05\n",
      " 5.65486678e+05 5.71155682e+05 5.76852960e+05 5.82578512e+05\n",
      " 5.88332339e+05 5.94114441e+05 5.99924816e+05 6.05763466e+05\n",
      " 6.11630391e+05 6.17525589e+05 6.23449062e+05 6.29400809e+05\n",
      " 6.35380831e+05 6.41389127e+05 6.47425697e+05 6.53490542e+05\n",
      " 6.59583661e+05 6.65705054e+05 6.71854722e+05 6.78032664e+05\n",
      " 6.84238880e+05 6.90473371e+05 6.96736136e+05 7.03027175e+05\n",
      " 7.09346488e+05 7.15694076e+05 7.22069939e+05 7.28474075e+05\n",
      " 7.34906486e+05 7.41367172e+05 7.47856131e+05 7.54373365e+05\n",
      " 7.60918873e+05 7.67492656e+05 7.74094713e+05 7.80725044e+05\n",
      " 7.87383650e+05 7.94070530e+05 8.00785684e+05 8.07529113e+05\n",
      " 8.14300816e+05 8.21100793e+05 8.27929045e+05 8.34785571e+05\n",
      " 8.41670371e+05 8.48583446e+05 8.55524795e+05 8.62494418e+05\n",
      " 8.69492316e+05 8.76518488e+05 8.83572934e+05 8.90655654e+05\n",
      " 8.97766649e+05 9.04905919e+05 9.12073462e+05 9.19269280e+05\n",
      " 9.26493373e+05 9.33745739e+05 9.41026380e+05 9.48335296e+05\n",
      " 9.55672485e+05 9.63037949e+05 9.70431688e+05 9.77853700e+05\n",
      " 9.85303987e+05 9.92782548e+05 1.00028938e+06 1.00782449e+06\n",
      " 1.01538788e+06 1.02297954e+06 1.03059947e+06 1.03824768e+06\n",
      " 1.04592416e+06 1.05362891e+06 1.06136195e+06 1.06912325e+06\n",
      " 1.07691283e+06 1.08473068e+06 1.09257681e+06 1.10045121e+06\n",
      " 1.10835389e+06 1.11628484e+06 1.12424406e+06 1.13223156e+06\n",
      " 1.14024734e+06 1.14829138e+06 1.15636371e+06 1.16446430e+06\n",
      " 1.17259317e+06 1.18075032e+06 1.18893574e+06 1.19714943e+06\n",
      " 1.20539140e+06 1.21366164e+06 1.22196016e+06 1.23028695e+06\n",
      " 1.23864202e+06 1.24702536e+06 1.25543697e+06 1.26387686e+06\n",
      " 1.27234502e+06 1.28084146e+06 1.28936617e+06 1.29791916e+06\n",
      " 1.30650042e+06 1.31510995e+06 1.32374776e+06 1.33241385e+06\n",
      " 1.34110820e+06 1.34983084e+06 1.35858174e+06 1.36736092e+06\n",
      " 1.37616838e+06 1.38500411e+06 1.39386811e+06 1.40276039e+06\n",
      " 1.41168094e+06 1.42062977e+06 1.42960687e+06 1.43861225e+06\n",
      " 1.44764589e+06 1.45670782e+06 1.46579802e+06 1.47491649e+06\n",
      " 1.48406324e+06 1.49323826e+06 1.50244155e+06 1.51167312e+06\n",
      " 1.52093297e+06 1.53022109e+06 1.53953748e+06 1.54888215e+06\n",
      " 1.55825509e+06 1.56765630e+06]\n"
     ]
    }
   ],
   "source": [
    "new_areas = delta_sphere * np.pi * (new_radii ** 2)\n",
    "print(new_areas)"
   ]
  },
  {
   "cell_type": "markdown",
   "metadata": {},
   "source": [
    "**12)** You might notice that when you print out `new_areas` that the values are listed in scientific notation. This is a useful feature of Python, especially when working with big numbers like we do in astronomy. Print the 5th element of the `new_areas` array to the screen. *Hint: remember that Python indexes starting with 0."
   ]
  },
  {
   "cell_type": "code",
   "execution_count": 17,
   "metadata": {},
   "outputs": [
    {
     "name": "stdout",
     "output_type": "stream",
     "text": [
      "226.1946710584651\n"
     ]
    }
   ],
   "source": [
    "element_5 = new_areas[4]\n",
    "print(element_5)"
   ]
  },
  {
   "cell_type": "markdown",
   "metadata": {},
   "source": [
    "**13)** What is the sum of the cross sectional areas of all of the planets in the `new_areas` array?"
   ]
  },
  {
   "cell_type": "code",
   "execution_count": 18,
   "metadata": {},
   "outputs": [
    {
     "data": {
      "text/plain": [
       "174794462.61331135"
      ]
     },
     "execution_count": 18,
     "metadata": {},
     "output_type": "execute_result"
    }
   ],
   "source": [
    "new_areas.sum()"
   ]
  },
  {
   "cell_type": "markdown",
   "metadata": {},
   "source": [
    "**14)** What is the sum of the radii of all of the stars in the `new_radii` array with a radius of greater than 400?"
   ]
  },
  {
   "cell_type": "code",
   "execution_count": 19,
   "metadata": {},
   "outputs": [
    {
     "data": {
      "text/plain": [
       "328"
      ]
     },
     "execution_count": 19,
     "metadata": {},
     "output_type": "execute_result"
    }
   ],
   "source": [
    "radius_gt_400 = new_areas > 400\n",
    "radius_gt_400.sum()"
   ]
  },
  {
   "cell_type": "markdown",
   "metadata": {},
   "source": [
    "**15)** How many of the values in `new_radii` are even? Use Exercise 5 (putting it all together) from the `numpy` lesson as a reference."
   ]
  },
  {
   "cell_type": "code",
   "execution_count": 20,
   "metadata": {},
   "outputs": [
    {
     "name": "stdout",
     "output_type": "stream",
     "text": [
      "[  0   6  12  18  24  30  36  42  48  54  60  66  72  78  84  90  96 102\n",
      " 108 114 120 126 132 138 144 150 156 162 168 174 180 186 192 198 204 210\n",
      " 216 222 228 234 240 246 252 258 264 270 276 282 288 294 300 306 312 318\n",
      " 324 330 336 342 348 354 360 366 372 378 384 390 396 402 408 414 420 426\n",
      " 432 438 444 450 456 462 468 474 480 486 492 498 504 510 516 522 528 534\n",
      " 540 546 552 558 564 570 576 582 588 594 600 606 612 618 624 630 636 642\n",
      " 648 654 660 666 672 678 684 690 696 702 708 714 720 726 732 738 744 750\n",
      " 756 762 768 774 780 786 792 798 804 810 816 822 828 834 840 846 852 858\n",
      " 864 870 876 882 888 894 900 906 912 918 924 930 936 942 948 954 960 966\n",
      " 972 978 984 990 996]\n"
     ]
    }
   ],
   "source": [
    "new_radii_even = new_radii[new_radii%2 == 0]\n",
    "print(new_radii_even)"
   ]
  },
  {
   "cell_type": "code",
   "execution_count": null,
   "metadata": {},
   "outputs": [],
   "source": [
    "#IGNORE THIS CELL - just displaying Figure 2\n",
    "bumpiness = Image(filename='/astro/users/mlazz/PreMAP2019/homework/data/bumpiness_fig2.png') \n",
    "display(bumpiness)"
   ]
  },
  {
   "cell_type": "markdown",
   "metadata": {},
   "source": [
    "**16)** Define a variable `r_star` with a value of 0.1 that defines the 0.1 solar radius M-dwarf star used as a reference in this paper. Create an array called `transit_scatter` that contains 100 values between 0.2 and 1.4 describing the transit scatter of 100 fictional planets. \n",
    "\n",
    "Use the equation printed on the figure to determine the bumpiness of each of these planets. Save the bumpiness of each planet into an array called `bumpiness`. Print `bumpiness` to the screen."
   ]
  },
  {
   "cell_type": "code",
   "execution_count": 21,
   "metadata": {},
   "outputs": [
    {
     "name": "stdout",
     "output_type": "stream",
     "text": [
      "[0.2   0.212 0.224 0.236 0.248 0.26  0.272 0.284 0.296 0.308 0.32  0.332\n",
      " 0.344 0.356 0.368 0.38  0.392 0.404 0.416 0.428 0.44  0.452 0.464 0.476\n",
      " 0.488 0.5   0.512 0.524 0.536 0.548 0.56  0.572 0.584 0.596 0.608 0.62\n",
      " 0.632 0.644 0.656 0.668 0.68  0.692 0.704 0.716 0.728 0.74  0.752 0.764\n",
      " 0.776 0.788 0.8   0.812 0.824 0.836 0.848 0.86  0.872 0.884 0.896 0.908\n",
      " 0.92  0.932 0.944 0.956 0.968 0.98  0.992 1.004 1.016 1.028 1.04  1.052\n",
      " 1.064 1.076 1.088 1.1   1.112 1.124 1.136 1.148 1.16  1.172 1.184 1.196\n",
      " 1.208 1.22  1.232 1.244 1.256 1.268 1.28  1.292 1.304 1.316 1.328 1.34\n",
      " 1.352 1.364 1.376 1.388]\n",
      "[ 973.5134    994.469804 1015.426208 1036.382612 1057.339016 1078.29542\n",
      " 1099.251824 1120.208228 1141.164632 1162.121036 1183.07744  1204.033844\n",
      " 1224.990248 1245.946652 1266.903056 1287.85946  1308.815864 1329.772268\n",
      " 1350.728672 1371.685076 1392.64148  1413.597884 1434.554288 1455.510692\n",
      " 1476.467096 1497.4235   1518.379904 1539.336308 1560.292712 1581.249116\n",
      " 1602.20552  1623.161924 1644.118328 1665.074732 1686.031136 1706.98754\n",
      " 1727.943944 1748.900348 1769.856752 1790.813156 1811.76956  1832.725964\n",
      " 1853.682368 1874.638772 1895.595176 1916.55158  1937.507984 1958.464388\n",
      " 1979.420792 2000.377196 2021.3336   2042.290004 2063.246408 2084.202812\n",
      " 2105.159216 2126.11562  2147.072024 2168.028428 2188.984832 2209.941236\n",
      " 2230.89764  2251.854044 2272.810448 2293.766852 2314.723256 2335.67966\n",
      " 2356.636064 2377.592468 2398.548872 2419.505276 2440.46168  2461.418084\n",
      " 2482.374488 2503.330892 2524.287296 2545.2437   2566.200104 2587.156508\n",
      " 2608.112912 2629.069316 2650.02572  2670.982124 2691.938528 2712.894932\n",
      " 2733.851336 2754.80774  2775.764144 2796.720548 2817.676952 2838.633356\n",
      " 2859.58976  2880.546164 2901.502568 2922.458972 2943.415376 2964.37178\n",
      " 2985.328184 3006.284588 3027.240992 3048.197396]\n"
     ]
    }
   ],
   "source": [
    "r_star = 0.1\n",
    "transit_scatter = np.arange(0.2,1.4,0.012)\n",
    "print(transit_scatter)\n",
    "bumpiness = np.array(624.24 + (174636.7 * transit_scatter * (r_star ** 2)))\n",
    "print(bumpiness)"
   ]
  },
  {
   "cell_type": "markdown",
   "metadata": {},
   "source": [
    "**17)** The height of Mt. Everest is 8848 meters. What would the transit depth of a planet need to be in order for its `bumpiness` to be equal to the height of Mt. Everest?"
   ]
  },
  {
   "cell_type": "code",
   "execution_count": 22,
   "metadata": {},
   "outputs": [
    {
     "name": "stdout",
     "output_type": "stream",
     "text": [
      "4.709067452603032\n"
     ]
    }
   ],
   "source": [
    "transit_depth = (8848 - 624.24) / (174636.7 * (r_star ** 2))\n",
    "print(transit_depth)"
   ]
  },
  {
   "cell_type": "markdown",
   "metadata": {},
   "source": [
    "**18)** What is the mean bumpiness of your planets? What is the standard deviation of the bumpiness? What is the median? *Hint: there are functions in numpy for all of these google it if you don't remember!*"
   ]
  },
  {
   "cell_type": "code",
   "execution_count": 24,
   "metadata": {},
   "outputs": [
    {
     "name": "stdout",
     "output_type": "stream",
     "text": [
      "2010.8553980000015\n"
     ]
    }
   ],
   "source": [
    "mean = bumpiness.mean()\n",
    "print(mean)"
   ]
  },
  {
   "cell_type": "code",
   "execution_count": 25,
   "metadata": {},
   "outputs": [
    {
     "name": "stdout",
     "output_type": "stream",
     "text": [
      "2010.8553980000013\n"
     ]
    }
   ],
   "source": [
    "median = np.median(bumpiness)\n",
    "print(median)"
   ]
  },
  {
   "cell_type": "code",
   "execution_count": 26,
   "metadata": {},
   "outputs": [
    {
     "name": "stdout",
     "output_type": "stream",
     "text": [
      "604.9290258123646\n"
     ]
    }
   ],
   "source": [
    "std_dev = bumpiness.std()\n",
    "print(std_dev)"
   ]
  },
  {
   "cell_type": "markdown",
   "metadata": {},
   "source": [
    "**19)** Let's say, more realistically, we changed the radius of the star in our bumpiness diagram to the radius of the Sun, R = 1 $R_{*}$. Using the value of the transit depth scatter from Figure 2 for both the wet and dry Earth, what would be the bumpiness in meters of the wet and the dry Earth?"
   ]
  },
  {
   "cell_type": "code",
   "execution_count": 27,
   "metadata": {},
   "outputs": [
    {
     "name": "stdout",
     "output_type": "stream",
     "text": [
      "87942.59000000001\n",
      "236383.78500000003\n"
     ]
    }
   ],
   "source": [
    "new_r_star = 1\n",
    "bumpiness_wet_earth = 624.24 + (174636.7 * 0.5 * (new_r_star ** 2))\n",
    "print(bumpiness_wet_earth)\n",
    "bumpiness_dry_earth = 624.24 + (174636.7 * 1.35 * (new_r_star ** 2))\n",
    "print(bumpiness_dry_earth)"
   ]
  },
  {
   "cell_type": "markdown",
   "metadata": {},
   "source": [
    "**20)** How do these new bumpiness measurements compare to Mt. Everest? "
   ]
  },
  {
   "cell_type": "markdown",
   "metadata": {},
   "source": [
    "Write your answer here in this markdown cell: The bumpiness measurments of wet and dry earth are far greater than the bumpiness measurement of Mt. Everest.\n"
   ]
  }
 ],
 "metadata": {
  "kernelspec": {
   "display_name": "Python 3",
   "language": "python",
   "name": "python3"
  },
  "language_info": {
   "codemirror_mode": {
    "name": "ipython",
    "version": 3
   },
   "file_extension": ".py",
   "mimetype": "text/x-python",
   "name": "python",
   "nbconvert_exporter": "python",
   "pygments_lexer": "ipython3",
   "version": "3.7.8"
  }
 },
 "nbformat": 4,
 "nbformat_minor": 2
}
